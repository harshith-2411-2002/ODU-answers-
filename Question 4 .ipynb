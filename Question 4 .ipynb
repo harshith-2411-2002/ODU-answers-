{
 "cells": [
  {
   "cell_type": "code",
   "execution_count": 1,
   "id": "a234df80",
   "metadata": {
    "scrolled": true
   },
   "outputs": [
    {
     "name": "stdout",
     "output_type": "stream",
     "text": [
      "Enter string : axxxy\n",
      "['a', 'ax', 'axx', 'axxx', 'axxxy', 'x', 'xx', 'xxx', 'xxxy', 'x', 'xx', 'xxy', 'x', 'xy', 'y']\n",
      "[['a'], ['ax'], ['axx'], ['axxx'], ['axxxy'], ['x', 'x', 'x'], ['xx', 'xx'], ['xxx'], ['xxxy'], ['x', 'x', 'x'], ['xx', 'xx'], ['xxy'], ['x', 'x', 'x'], ['xy'], ['y']]\n",
      "2\n"
     ]
    }
   ],
   "source": [
    "def ind(a,s):\n",
    "    for i in range(len(a)):\n",
    "        for j in range(i+1,len(s)):\n",
    "            if(a[i]==s[j]):\n",
    "                if(i==s):\n",
    "                    return False\n",
    "a = input(\"Enter string : \")\n",
    "b=[]\n",
    "k=0\n",
    "c=0\n",
    "for i in range(len(a)):\n",
    "    b.append(a[i])\n",
    "    for j in range(i+2,len(a)+1):\n",
    "            b.append(a[i:j])\n",
    "print(b)\n",
    "am=[]\n",
    "for i in b:\n",
    "    l=[]\n",
    "    for j in b:\n",
    "        if i==j:\n",
    "            l.append(j)\n",
    "    am.append(l)\n",
    "print(am) \n",
    "p=[]\n",
    "l=0\n",
    "max1 =0\n",
    "for i in am:\n",
    "    if(len(i)>1):\n",
    "        if(len(i[0])>max1):\n",
    "            max1 = len(i[0])\n",
    "print(max1)"
   ]
  },
  {
   "cell_type": "code",
   "execution_count": 4,
   "id": "a2d8d3d9",
   "metadata": {},
   "outputs": [
    {
     "name": "stdout",
     "output_type": "stream",
     "text": [
      "Enter string : aab\n",
      "['a', 'aa', 'aab', 'a', 'ab', 'b']\n",
      "2\n"
     ]
    }
   ],
   "source": [
    "a = input(\"Enter string : \")\n",
    "b=[]\n",
    "k=0\n",
    "c=0\n",
    "for i in range(len(a)):\n",
    "    b.append(a[i])\n",
    "    for j in range(i+2,len(a)+1):\n",
    "            b.append(a[i:j])\n",
    "print(b)\n",
    "am=[]\n",
    "for i in b:\n",
    "    c=0\n",
    "    for j in b:\n",
    "        if(i==j):\n",
    "            c=c+1\n",
    "            if(c>1):\n",
    "                if(len(i)>max1):\n",
    "                    max1 = len(i)\n",
    "print(max1)"
   ]
  },
  {
   "cell_type": "code",
   "execution_count": null,
   "id": "f2beca89",
   "metadata": {},
   "outputs": [],
   "source": []
  },
  {
   "cell_type": "code",
   "execution_count": null,
   "id": "52ad6870",
   "metadata": {},
   "outputs": [],
   "source": []
  },
  {
   "cell_type": "code",
   "execution_count": null,
   "id": "78e01618",
   "metadata": {},
   "outputs": [],
   "source": []
  },
  {
   "cell_type": "code",
   "execution_count": null,
   "id": "b66c316a",
   "metadata": {},
   "outputs": [],
   "source": []
  }
 ],
 "metadata": {
  "kernelspec": {
   "display_name": "Python 3 (ipykernel)",
   "language": "python",
   "name": "python3"
  },
  "language_info": {
   "codemirror_mode": {
    "name": "ipython",
    "version": 3
   },
   "file_extension": ".py",
   "mimetype": "text/x-python",
   "name": "python",
   "nbconvert_exporter": "python",
   "pygments_lexer": "ipython3",
   "version": "3.9.12"
  }
 },
 "nbformat": 4,
 "nbformat_minor": 5
}
